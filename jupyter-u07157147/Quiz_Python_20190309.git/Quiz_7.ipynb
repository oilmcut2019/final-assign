{
 "cells": [
  {
   "cell_type": "code",
   "execution_count": 10,
   "metadata": {},
   "outputs": [
    {
     "name": "stdout",
     "output_type": "stream",
     "text": [
      "please key :4 2.5 1\n",
      "10.0\n"
     ]
    }
   ],
   "source": [
    "number1 ,number2 ,number3 = map(float,input('please key :').split())\n",
    "if number1 > number2:\n",
    "    if number2 >number3:\n",
    "        print(number1*number2)\n",
    "        \n",
    "    else :\n",
    "        if number1 > number3:\n",
    "            if number3 > number2:\n",
    "                print(number1*number3)\n",
    "                \n",
    "elif number2 > number1:\n",
    "    if number1 > number3:\n",
    "        print(number2*number1)\n",
    "        \n",
    "    else: \n",
    "        if number2 > number3:\n",
    "            if number3 >number1:\n",
    "                print(number2*number3)\n",
    "        \n",
    "elif number3 > number2:\n",
    "    if number2 > number1:\n",
    "        print(number3*number2)\n",
    "    else:\n",
    "        if number3 > number1:\n",
    "            if number1 > number2:\n",
    "                print(number3*number1)\n"
   ]
  },
  {
   "cell_type": "code",
   "execution_count": null,
   "metadata": {},
   "outputs": [],
   "source": []
  }
 ],
 "metadata": {
  "kernelspec": {
   "display_name": "Python 3",
   "language": "python",
   "name": "python3"
  },
  "language_info": {
   "codemirror_mode": {
    "name": "ipython",
    "version": 3
   },
   "file_extension": ".py",
   "mimetype": "text/x-python",
   "name": "python",
   "nbconvert_exporter": "python",
   "pygments_lexer": "ipython3",
   "version": "3.6.7"
  },
  "nbTranslate": {
   "displayLangs": [
    "*"
   ],
   "hotkey": "alt-t",
   "langInMainMenu": true,
   "sourceLang": "en",
   "targetLang": "fr",
   "useGoogleTranslate": true
  }
 },
 "nbformat": 4,
 "nbformat_minor": 2
}
