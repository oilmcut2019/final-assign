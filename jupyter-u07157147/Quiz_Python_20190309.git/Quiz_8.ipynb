{
 "cells": [
  {
   "cell_type": "code",
   "execution_count": 9,
   "metadata": {},
   "outputs": [
    {
     "name": "stdout",
     "output_type": "stream",
     "text": [
      "input the number : 100\n",
      "Total : 100\n",
      "B\n",
      "A\n",
      "A\n",
      "A\n",
      "A\n",
      "0\n"
     ]
    }
   ],
   "source": [
    "money = int(input('input the number : '))\n",
    "total = money\n",
    "print('Total :',total)\n",
    "\n",
    "while total > 0:\n",
    "    if total > 0:\n",
    "        item = input()\n",
    "        total -= item.count('A')*18\n",
    "        total -= item.count('B')*28\n",
    "        total -= item.count('C')*10\n",
    "        total -= item.count('D')*50\n",
    "        total -= item.count('E')*89\n",
    "print(total)        "
   ]
  },
  {
   "cell_type": "code",
   "execution_count": null,
   "metadata": {},
   "outputs": [],
   "source": []
  }
 ],
 "metadata": {
  "kernelspec": {
   "display_name": "Python 3",
   "language": "python",
   "name": "python3"
  },
  "language_info": {
   "codemirror_mode": {
    "name": "ipython",
    "version": 3
   },
   "file_extension": ".py",
   "mimetype": "text/x-python",
   "name": "python",
   "nbconvert_exporter": "python",
   "pygments_lexer": "ipython3",
   "version": "3.6.7"
  },
  "nbTranslate": {
   "displayLangs": [
    "*"
   ],
   "hotkey": "alt-t",
   "langInMainMenu": true,
   "sourceLang": "en",
   "targetLang": "fr",
   "useGoogleTranslate": true
  }
 },
 "nbformat": 4,
 "nbformat_minor": 2
}
