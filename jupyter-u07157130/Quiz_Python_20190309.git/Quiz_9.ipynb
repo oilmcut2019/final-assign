{
 "cells": [
  {
   "cell_type": "code",
   "execution_count": 20,
   "metadata": {},
   "outputs": [
    {
     "name": "stdout",
     "output_type": "stream",
     "text": [
      "320\n",
      "5 _ 1 _ 25\n"
     ]
    }
   ],
   "source": [
    "a=int(input(\"\"))\n",
    "b=15\n",
    "c=30\n",
    "d=25\n",
    "e=1\n",
    "f=2\n",
    "g=3\n",
    "i=a//(b+c+d)\n",
    "j=a-i*(b+c+d)\n",
    "if(j>15):\n",
    "    i=i+1\n",
    "if(j<=45 and j>15):\n",
    "    k=j-15\n",
    "    print(i,'_',e,'_',k)\n",
    "elif(j>45 and j<=70):\n",
    "    k=j-45\n",
    "    print(i,'_',f,'_',k)\n",
    "elif(j>70 and j<=85):\n",
    "    k=j-70\n",
    "    print(i,'_',g,'_',k)\n",
    "elif(j<15):\n",
    "    print(i,'_',g,'_',j)"
   ]
  },
  {
   "cell_type": "code",
   "execution_count": null,
   "metadata": {},
   "outputs": [],
   "source": []
  },
  {
   "cell_type": "code",
   "execution_count": null,
   "metadata": {},
   "outputs": [],
   "source": []
  }
 ],
 "metadata": {
  "kernelspec": {
   "display_name": "Python 3",
   "language": "python",
   "name": "python3"
  },
  "language_info": {
   "codemirror_mode": {
    "name": "ipython",
    "version": 3
   },
   "file_extension": ".py",
   "mimetype": "text/x-python",
   "name": "python",
   "nbconvert_exporter": "python",
   "pygments_lexer": "ipython3",
   "version": "3.6.7"
  },
  "nbTranslate": {
   "displayLangs": [
    "*"
   ],
   "hotkey": "alt-t",
   "langInMainMenu": true,
   "sourceLang": "en",
   "targetLang": "fr",
   "useGoogleTranslate": true
  }
 },
 "nbformat": 4,
 "nbformat_minor": 2
}
