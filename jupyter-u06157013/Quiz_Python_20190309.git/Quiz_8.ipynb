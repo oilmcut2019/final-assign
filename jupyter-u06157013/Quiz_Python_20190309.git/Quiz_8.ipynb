{
 "cells": [
  {
   "cell_type": "code",
   "execution_count": 1,
   "metadata": {},
   "outputs": [
    {
     "name": "stdout",
     "output_type": "stream",
     "text": [
      "a=50\n",
      "b=A\n",
      "b=B\n",
      "b=C\n",
      "-6\n"
     ]
    }
   ],
   "source": [
    "a=int(input(\"a=\"))\n",
    "while (a>0):\n",
    "    b=str(input(\"b=\"))\n",
    "    if b==\"A\":\n",
    "        a=a-18\n",
    "    elif b==\"B\":\n",
    "        a=a-28\n",
    "    elif b==\"C\":\n",
    "        a=a-10\n",
    "    elif b==\"D\":\n",
    "        a=a-50\n",
    "    elif b==\"E\":\n",
    "        a=a-89\n",
    "print(a)"
   ]
  }
 ],
 "metadata": {
  "kernelspec": {
   "display_name": "Python 3",
   "language": "python",
   "name": "python3"
  },
  "language_info": {
   "codemirror_mode": {
    "name": "ipython",
    "version": 3
   },
   "file_extension": ".py",
   "mimetype": "text/x-python",
   "name": "python",
   "nbconvert_exporter": "python",
   "pygments_lexer": "ipython3",
   "version": "3.6.7"
  },
  "nbTranslate": {
   "displayLangs": [
    "*"
   ],
   "hotkey": "alt-t",
   "langInMainMenu": true,
   "sourceLang": "en",
   "targetLang": "fr",
   "useGoogleTranslate": true
  }
 },
 "nbformat": 4,
 "nbformat_minor": 2
}
