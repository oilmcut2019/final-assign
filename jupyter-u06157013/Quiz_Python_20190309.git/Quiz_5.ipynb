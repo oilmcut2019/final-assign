{
 "cells": [
  {
   "cell_type": "code",
   "execution_count": 2,
   "metadata": {},
   "outputs": [
    {
     "name": "stdout",
     "output_type": "stream",
     "text": [
      "a=4\n",
      "spring\n"
     ]
    }
   ],
   "source": [
    "a=int(input(\"a=\"))\n",
    "if a == 1:\n",
    "    print('winter')\n",
    "if a == 2:\n",
    "    print('winter')\n",
    "if a == 3:\n",
    "    print('spring')\n",
    "if a == 4:\n",
    "    print('spring')\n",
    "if a == 5:\n",
    "    print('spring')\n",
    "if a == 6:\n",
    "    print('summer')\n",
    "if a == 7:\n",
    "    print('summer')\n",
    "if a == 8:\n",
    "    print('summer')\n",
    "if a == 9:\n",
    "    print('fall')\n",
    "if a == 10:\n",
    "    print('fall')\n",
    "if a == 11:\n",
    "    print('fall')\n",
    "if a == 12:\n",
    "    print('winter')"
   ]
  }
 ],
 "metadata": {
  "kernelspec": {
   "display_name": "Python 3",
   "language": "python",
   "name": "python3"
  },
  "language_info": {
   "codemirror_mode": {
    "name": "ipython",
    "version": 3
   },
   "file_extension": ".py",
   "mimetype": "text/x-python",
   "name": "python",
   "nbconvert_exporter": "python",
   "pygments_lexer": "ipython3",
   "version": "3.6.7"
  },
  "nbTranslate": {
   "displayLangs": [
    "*"
   ],
   "hotkey": "alt-t",
   "langInMainMenu": true,
   "sourceLang": "en",
   "targetLang": "fr",
   "useGoogleTranslate": true
  }
 },
 "nbformat": 4,
 "nbformat_minor": 2
}
