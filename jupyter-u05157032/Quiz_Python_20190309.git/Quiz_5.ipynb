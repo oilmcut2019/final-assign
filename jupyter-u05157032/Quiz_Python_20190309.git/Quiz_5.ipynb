{
 "cells": [
  {
   "cell_type": "markdown",
   "metadata": {},
   "source": []
  },
  {
   "cell_type": "code",
   "execution_count": 8,
   "metadata": {},
   "outputs": [
    {
     "name": "stdout",
     "output_type": "stream",
     "text": [
      "4\n",
      "spring\n"
     ]
    }
   ],
   "source": [
    "month = int(input())\n",
    "if month in [3,4,5]:\n",
    "    print('spring')\n",
    "elif month in [6,7,8]:\n",
    "    print('summer')\n",
    "elif month in [9,10,11]:\n",
    "    print('fall')\n",
    "elif month in [12,1,2]:\n",
    "    print('winter')\n",
    "else:\n",
    "    print('error')"
   ]
  },
  {
   "cell_type": "code",
   "execution_count": 9,
   "metadata": {},
   "outputs": [
    {
     "name": "stdout",
     "output_type": "stream",
     "text": [
      "12\n",
      "winter\n"
     ]
    }
   ],
   "source": [
    "month = int(input())\n",
    "if month in [3,4,5]:\n",
    "    print('spring')\n",
    "elif month in [6,7,8]:\n",
    "    print('summer')\n",
    "elif month in [9,10,11]:\n",
    "    print('fall')\n",
    "elif month in [12,1,2]:\n",
    "    print('winter')\n",
    "else:\n",
    "    print('error')"
   ]
  },
  {
   "cell_type": "code",
   "execution_count": null,
   "metadata": {},
   "outputs": [],
   "source": []
  }
 ],
 "metadata": {
  "kernelspec": {
   "display_name": "Python 3",
   "language": "python",
   "name": "python3"
  },
  "language_info": {
   "codemirror_mode": {
    "name": "ipython",
    "version": 3
   },
   "file_extension": ".py",
   "mimetype": "text/x-python",
   "name": "python",
   "nbconvert_exporter": "python",
   "pygments_lexer": "ipython3",
   "version": "3.6.7"
  },
  "nbTranslate": {
   "displayLangs": [
    "*"
   ],
   "hotkey": "alt-t",
   "langInMainMenu": true,
   "sourceLang": "en",
   "targetLang": "fr",
   "useGoogleTranslate": true
  }
 },
 "nbformat": 4,
 "nbformat_minor": 2
}
