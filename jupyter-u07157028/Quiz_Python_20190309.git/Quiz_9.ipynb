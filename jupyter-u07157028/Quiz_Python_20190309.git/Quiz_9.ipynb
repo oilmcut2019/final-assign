{
 "cells": [
  {
   "cell_type": "code",
   "execution_count": 8,
   "metadata": {},
   "outputs": [
    {
     "name": "stdout",
     "output_type": "stream",
     "text": [
      "paper number421\n",
      "7 _1_ 1\n"
     ]
    }
   ],
   "source": [
    "a = int(input(\"paper number\"))\n",
    "day = int(0)\n",
    "while a>0:\n",
    "    day = day+1\n",
    "    if (a-15)>0:\n",
    "        a = a-15\n",
    "    else:\n",
    "        print(day,\"_1_\",a)\n",
    "        break\n",
    "    if (a-30)>0:\n",
    "        a = a-30\n",
    "    else:\n",
    "        print(day,\"_2_\",a)\n",
    "        break\n",
    "    if (a-25)>0:\n",
    "        a = a-25\n",
    "    else:\n",
    "        print(day,\"_3_\",a)\n",
    "        break\n",
    "        "
   ]
  },
  {
   "cell_type": "code",
   "execution_count": null,
   "metadata": {},
   "outputs": [],
   "source": []
  }
 ],
 "metadata": {
  "kernelspec": {
   "display_name": "Python 3",
   "language": "python",
   "name": "python3"
  },
  "language_info": {
   "codemirror_mode": {
    "name": "ipython",
    "version": 3
   },
   "file_extension": ".py",
   "mimetype": "text/x-python",
   "name": "python",
   "nbconvert_exporter": "python",
   "pygments_lexer": "ipython3",
   "version": "3.6.7"
  },
  "nbTranslate": {
   "displayLangs": [
    "*"
   ],
   "hotkey": "alt-t",
   "langInMainMenu": true,
   "sourceLang": "en",
   "targetLang": "fr",
   "useGoogleTranslate": true
  }
 },
 "nbformat": 4,
 "nbformat_minor": 2
}
