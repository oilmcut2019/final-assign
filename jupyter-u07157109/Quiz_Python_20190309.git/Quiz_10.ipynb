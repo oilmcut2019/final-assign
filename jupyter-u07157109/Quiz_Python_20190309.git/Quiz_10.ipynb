{
 "cells": [
  {
   "cell_type": "code",
   "execution_count": 14,
   "metadata": {},
   "outputs": [
    {
     "name": "stdout",
     "output_type": "stream",
     "text": [
      "樓層高度:5\n",
      "1樓的巡察時間:10\n",
      "100.0\n"
     ]
    }
   ],
   "source": [
    "N=float(input(\"樓層高度:\"))\n",
    "X=float(input(\"1樓的巡察時間:\"))\n",
    "Y=X/2\n",
    "Z=1\n",
    "A=2\n",
    "B=0\n",
    "\n",
    "while Z <=N :\n",
    "    if Z == 1:\n",
    "        sum=X\n",
    "        Z+=1\n",
    "    else:\n",
    "        sum=sum+X+Y\n",
    "        B=Z-1\n",
    "        Y=Y*B\n",
    "        Z+=1\n",
    "    \n",
    "print(sum)\n"
   ]
  },
  {
   "cell_type": "code",
   "execution_count": null,
   "metadata": {},
   "outputs": [],
   "source": []
  },
  {
   "cell_type": "code",
   "execution_count": null,
   "metadata": {},
   "outputs": [],
   "source": []
  }
 ],
 "metadata": {
  "kernelspec": {
   "display_name": "Python 3",
   "language": "python",
   "name": "python3"
  },
  "language_info": {
   "codemirror_mode": {
    "name": "ipython",
    "version": 3
   },
   "file_extension": ".py",
   "mimetype": "text/x-python",
   "name": "python",
   "nbconvert_exporter": "python",
   "pygments_lexer": "ipython3",
   "version": "3.6.7"
  },
  "nbTranslate": {
   "displayLangs": [
    "*"
   ],
   "hotkey": "alt-t",
   "langInMainMenu": true,
   "sourceLang": "en",
   "targetLang": "fr",
   "useGoogleTranslate": true
  }
 },
 "nbformat": 4,
 "nbformat_minor": 2
}
