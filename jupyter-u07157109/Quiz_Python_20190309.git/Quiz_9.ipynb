{
 "cells": [
  {
   "cell_type": "code",
   "execution_count": 32,
   "metadata": {},
   "outputs": [
    {
     "name": "stdout",
     "output_type": "stream",
     "text": [
      "目前可用的紙張數量:320\n",
      "5 1 25\n"
     ]
    }
   ],
   "source": [
    "x = int(input(\"目前可用的紙張數量:\"))\n",
    "d=1\n",
    "s=0\n",
    "p=0\n",
    "y=100\n",
    "while y>0 :\n",
    "    x-=15\n",
    "    if x>0:\n",
    "        s=1\n",
    "        p=x\n",
    "        x-=30\n",
    "        if x>0:\n",
    "            s=2\n",
    "            p=x\n",
    "            x-=25\n",
    "            if x>0:\n",
    "                p=x\n",
    "                d+=1\n",
    "                s=3\n",
    "            else:\n",
    "                print(d,s,p)\n",
    "                y=0\n",
    "        else:\n",
    "            print(d,s,p)\n",
    "            y=0\n",
    "    else:\n",
    "        print(d,s,p)\n",
    "        y=0"
   ]
  },
  {
   "cell_type": "code",
   "execution_count": null,
   "metadata": {},
   "outputs": [],
   "source": []
  },
  {
   "cell_type": "code",
   "execution_count": null,
   "metadata": {},
   "outputs": [],
   "source": []
  }
 ],
 "metadata": {
  "kernelspec": {
   "display_name": "Python 3",
   "language": "python",
   "name": "python3"
  },
  "language_info": {
   "codemirror_mode": {
    "name": "ipython",
    "version": 3
   },
   "file_extension": ".py",
   "mimetype": "text/x-python",
   "name": "python",
   "nbconvert_exporter": "python",
   "pygments_lexer": "ipython3",
   "version": "3.6.7"
  },
  "nbTranslate": {
   "displayLangs": [
    "*"
   ],
   "hotkey": "alt-t",
   "langInMainMenu": true,
   "sourceLang": "en",
   "targetLang": "fr",
   "useGoogleTranslate": true
  }
 },
 "nbformat": 4,
 "nbformat_minor": 2
}
