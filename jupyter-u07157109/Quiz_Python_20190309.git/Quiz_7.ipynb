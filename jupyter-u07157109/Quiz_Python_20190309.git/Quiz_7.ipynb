{
 "cells": [
  {
   "cell_type": "code",
   "execution_count": 7,
   "metadata": {},
   "outputs": [
    {
     "name": "stdout",
     "output_type": "stream",
     "text": [
      "A=10.3\n",
      "B=20.2\n",
      "C=5.8\n",
      "208.06\n"
     ]
    }
   ],
   "source": [
    "A = float(input(\"A=\"))\n",
    "B = float(input(\"B=\"))\n",
    "C = float(input(\"C=\"))\n",
    "if A>B>C:\n",
    "    print(A*B)\n",
    "elif A>C>B:\n",
    "    print(A*C)\n",
    "elif B>A>C:\n",
    "    print(B*A)\n",
    "elif B>C>A:\n",
    "    print(B*C)\n",
    "elif C>A>B:\n",
    "    print(C*A)\n",
    "elif C>B>A:\n",
    "    print(C*B)\n",
    "else:\n",
    "    print(\"X\")"
   ]
  },
  {
   "cell_type": "code",
   "execution_count": null,
   "metadata": {},
   "outputs": [],
   "source": []
  },
  {
   "cell_type": "code",
   "execution_count": null,
   "metadata": {},
   "outputs": [],
   "source": []
  }
 ],
 "metadata": {
  "kernelspec": {
   "display_name": "Python 3",
   "language": "python",
   "name": "python3"
  },
  "language_info": {
   "codemirror_mode": {
    "name": "ipython",
    "version": 3
   },
   "file_extension": ".py",
   "mimetype": "text/x-python",
   "name": "python",
   "nbconvert_exporter": "python",
   "pygments_lexer": "ipython3",
   "version": "3.6.7"
  },
  "nbTranslate": {
   "displayLangs": [
    "*"
   ],
   "hotkey": "alt-t",
   "langInMainMenu": true,
   "sourceLang": "en",
   "targetLang": "fr",
   "useGoogleTranslate": true
  }
 },
 "nbformat": 4,
 "nbformat_minor": 2
}
