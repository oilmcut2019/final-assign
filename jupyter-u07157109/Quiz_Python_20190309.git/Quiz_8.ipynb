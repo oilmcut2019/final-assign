{
 "cells": [
  {
   "cell_type": "code",
   "execution_count": 6,
   "metadata": {},
   "outputs": [
    {
     "name": "stdout",
     "output_type": "stream",
     "text": [
      "輸入正整數=273\n",
      "輸入A~E:E\n",
      "輸入A~E:A\n",
      "輸入A~E:C\n",
      "輸入A~E:E\n",
      "輸入A~E:A\n",
      "輸入A~E:E\n",
      "-40\n"
     ]
    }
   ],
   "source": [
    "X = int(input(\"輸入正整數=\"))\n",
    "\n",
    "while X >= 0 :\n",
    "    Y = str(input(\"輸入A~E:\"))\n",
    "    if Y ==\"A\":\n",
    "            X -= 18\n",
    "    elif Y ==\"B\":\n",
    "            X -= 28\n",
    "    elif Y ==\"C\":\n",
    "            X -= 10\n",
    "    elif Y ==\"D\":\n",
    "            X -= 50\n",
    "    elif Y ==\"E\":\n",
    "            X -= 89\n",
    "    else:\n",
    "            X += 0\n",
    "\n",
    "print(X)"
   ]
  },
  {
   "cell_type": "code",
   "execution_count": null,
   "metadata": {},
   "outputs": [],
   "source": []
  },
  {
   "cell_type": "code",
   "execution_count": null,
   "metadata": {},
   "outputs": [],
   "source": []
  }
 ],
 "metadata": {
  "kernelspec": {
   "display_name": "Python 3",
   "language": "python",
   "name": "python3"
  },
  "language_info": {
   "codemirror_mode": {
    "name": "ipython",
    "version": 3
   },
   "file_extension": ".py",
   "mimetype": "text/x-python",
   "name": "python",
   "nbconvert_exporter": "python",
   "pygments_lexer": "ipython3",
   "version": "3.6.7"
  },
  "nbTranslate": {
   "displayLangs": [
    "*"
   ],
   "hotkey": "alt-t",
   "langInMainMenu": true,
   "sourceLang": "en",
   "targetLang": "fr",
   "useGoogleTranslate": true
  }
 },
 "nbformat": 4,
 "nbformat_minor": 2
}
