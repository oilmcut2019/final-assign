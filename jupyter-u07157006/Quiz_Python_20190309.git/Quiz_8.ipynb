{
 "cells": [
  {
   "cell_type": "code",
   "execution_count": 1,
   "metadata": {},
   "outputs": [
    {
     "name": "stdout",
     "output_type": "stream",
     "text": [
      "50\n",
      "A\n",
      "B\n",
      "C\n",
      "-6\n"
     ]
    }
   ],
   "source": [
    "a = int(input())\n",
    "while a:\n",
    "    x=input()\n",
    "    if x=='A':\n",
    "        a-=18\n",
    "    elif x=='B':\n",
    "        a-=28\n",
    "    elif x=='C':\n",
    "        a-=10\n",
    "    elif x=='D':\n",
    "        a-=50\n",
    "    elif x=='E':\n",
    "        a-=89    \n",
    "    if a<0:\n",
    "        print(a)\n",
    "        break"
   ]
  }
 ],
 "metadata": {
  "kernelspec": {
   "display_name": "Python 3",
   "language": "python",
   "name": "python3"
  },
  "language_info": {
   "codemirror_mode": {
    "name": "ipython",
    "version": 3
   },
   "file_extension": ".py",
   "mimetype": "text/x-python",
   "name": "python",
   "nbconvert_exporter": "python",
   "pygments_lexer": "ipython3",
   "version": "3.6.7"
  },
  "nbTranslate": {
   "displayLangs": [
    "*"
   ],
   "hotkey": "alt-t",
   "langInMainMenu": true,
   "sourceLang": "en",
   "targetLang": "fr",
   "useGoogleTranslate": true
  }
 },
 "nbformat": 4,
 "nbformat_minor": 2
}
