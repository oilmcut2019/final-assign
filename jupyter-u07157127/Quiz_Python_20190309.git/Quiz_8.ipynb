{
 "cells": [
  {
   "cell_type": "code",
   "execution_count": 13,
   "metadata": {},
   "outputs": [
    {
     "name": "stdout",
     "output_type": "stream",
     "text": [
      "50\n",
      "A\n",
      "B\n",
      "C\n",
      "-6\n"
     ]
    }
   ],
   "source": [
    "\n",
    "a=int(input())\n",
    "while a>0:\n",
    "    if a>0 :\n",
    "        b=input()\n",
    "        a-=b.count(\"A\")*18\n",
    "        a-=b.count(\"B\")*28\n",
    "        a-=b.count(\"C\")*10\n",
    "        a-=b.count(\"D\")*50\n",
    "        a-=b.count(\"E\")*89\n",
    "    \n",
    "print(a)\n",
    "\n",
    "\n",
    "\n",
    "    \n",
    "\n",
    "        "
   ]
  },
  {
   "cell_type": "code",
   "execution_count": null,
   "metadata": {},
   "outputs": [],
   "source": []
  }
 ],
 "metadata": {
  "kernelspec": {
   "display_name": "Python 3",
   "language": "python",
   "name": "python3"
  },
  "language_info": {
   "codemirror_mode": {
    "name": "ipython",
    "version": 3
   },
   "file_extension": ".py",
   "mimetype": "text/x-python",
   "name": "python",
   "nbconvert_exporter": "python",
   "pygments_lexer": "ipython3",
   "version": "3.6.7"
  },
  "nbTranslate": {
   "displayLangs": [
    "*"
   ],
   "hotkey": "alt-t",
   "langInMainMenu": true,
   "sourceLang": "en",
   "targetLang": "fr",
   "useGoogleTranslate": true
  }
 },
 "nbformat": 4,
 "nbformat_minor": 2
}
