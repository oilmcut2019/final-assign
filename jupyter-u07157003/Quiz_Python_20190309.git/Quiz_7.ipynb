{
 "cells": [
  {
   "cell_type": "code",
   "execution_count": 3,
   "metadata": {},
   "outputs": [
    {
     "name": "stdout",
     "output_type": "stream",
     "text": [
      "a=1.6689\n",
      "b=100.0\n",
      "c=3.773\n",
      "377.3\n"
     ]
    }
   ],
   "source": [
    "a = float(input(\"a=\"))\n",
    "b = float(input(\"b=\"))\n",
    "c = float(input(\"c=\"))\n",
    "if(a > b > c):\n",
    "    print(a*b)\n",
    "if(a > c > b):\n",
    "    print(a*c)\n",
    "if(b > a > c):\n",
    "    print(a*b)\n",
    "if(b > c > a):\n",
    "    print(c*b)\n",
    "if(c > b > a):\n",
    "    print(c*b)\n",
    "if(c > a > b):\n",
    "    print(a*c)"
   ]
  },
  {
   "cell_type": "code",
   "execution_count": null,
   "metadata": {},
   "outputs": [],
   "source": []
  }
 ],
 "metadata": {
  "kernelspec": {
   "display_name": "Python 3",
   "language": "python",
   "name": "python3"
  },
  "nbTranslate": {
   "displayLangs": [
    "*"
   ],
   "hotkey": "alt-t",
   "langInMainMenu": true,
   "sourceLang": "en",
   "targetLang": "fr",
   "useGoogleTranslate": true
  }
 },
 "nbformat": 4,
 "nbformat_minor": 2
}
