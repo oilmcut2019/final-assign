{
 "cells": [
  {
   "cell_type": "code",
   "execution_count": 4,
   "metadata": {},
   "outputs": [
    {
     "name": "stdout",
     "output_type": "stream",
     "text": [
      "1.6689\n",
      "100.0 \n",
      "3.773\n",
      "377.3\n"
     ]
    }
   ],
   "source": [
    "a=float(input(\"\"))\n",
    "b=float(input(\"\"))\n",
    "c=float(input(\"\")) \n",
    "if a>b and a>c and b>c:  \n",
    "    print(a*b) \n",
    "elif a>b and a>c and c>b:\n",
    "    print(a*c)\n",
    "elif b>a and b>c and a>c:\n",
    "    print(b*a)\n",
    "elif b>a and b>c and c>a:\n",
    "    print(b*c)\n",
    "elif c>a and c>b and a>b:\n",
    "    print(c*a)\n",
    "else:\n",
    "    print(c*b)\n",
    "\n"
   ]
  },
  {
   "cell_type": "code",
   "execution_count": null,
   "metadata": {},
   "outputs": [],
   "source": []
  },
  {
   "cell_type": "code",
   "execution_count": null,
   "metadata": {},
   "outputs": [],
   "source": []
  },
  {
   "cell_type": "code",
   "execution_count": null,
   "metadata": {},
   "outputs": [],
   "source": []
  }
 ],
 "metadata": {
  "kernelspec": {
   "display_name": "Python 3",
   "language": "python",
   "name": "python3"
  },
  "language_info": {
   "codemirror_mode": {
    "name": "ipython",
    "version": 3
   },
   "file_extension": ".py",
   "mimetype": "text/x-python",
   "name": "python",
   "nbconvert_exporter": "python",
   "pygments_lexer": "ipython3",
   "version": "3.6.7"
  },
  "nbTranslate": {
   "displayLangs": [
    "*"
   ],
   "hotkey": "alt-t",
   "langInMainMenu": true,
   "sourceLang": "en",
   "targetLang": "fr",
   "useGoogleTranslate": true
  }
 },
 "nbformat": 4,
 "nbformat_minor": 2
}
