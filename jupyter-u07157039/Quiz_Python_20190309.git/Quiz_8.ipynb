{
 "cells": [
  {
   "cell_type": "code",
   "execution_count": 12,
   "metadata": {},
   "outputs": [
    {
     "name": "stdout",
     "output_type": "stream",
     "text": [
      "50\n",
      "A\n",
      "B\n",
      "C\n",
      "-6\n"
     ]
    }
   ],
   "source": [
    "a=int(input())\n",
    "while a>=0:\n",
    "    b=input()\n",
    "    if b=='A':\n",
    "        a-=18\n",
    "    elif b=='B':\n",
    "        a-=28\n",
    "    elif b=='C':\n",
    "        a-=10\n",
    "    elif b=='D':\n",
    "        a-=50\n",
    "    elif b=='E':\n",
    "        a-=89\n",
    "    if a<=0:\n",
    "        print(a)\n",
    "        break"
   ]
  },
  {
   "cell_type": "code",
   "execution_count": null,
   "metadata": {},
   "outputs": [],
   "source": []
  },
  {
   "cell_type": "code",
   "execution_count": null,
   "metadata": {},
   "outputs": [],
   "source": []
  }
 ],
 "metadata": {
  "kernelspec": {
   "display_name": "Python 3",
   "language": "python",
   "name": "python3"
  },
  "nbTranslate": {
   "displayLangs": [
    "*"
   ],
   "hotkey": "alt-t",
   "langInMainMenu": true,
   "sourceLang": "en",
   "targetLang": "fr",
   "useGoogleTranslate": true
  }
 },
 "nbformat": 4,
 "nbformat_minor": 2
}
