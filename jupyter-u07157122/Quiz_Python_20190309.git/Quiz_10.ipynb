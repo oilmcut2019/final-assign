{
 "cells": [
  {
   "cell_type": "code",
   "execution_count": 27,
   "metadata": {},
   "outputs": [
    {
     "name": "stdout",
     "output_type": "stream",
     "text": [
      "5 10\n",
      "100.0\n"
     ]
    }
   ],
   "source": [
    "a = input().split()\n",
    "sum = float()\n",
    "now = float()\n",
    "for x in range(0,int(a[0])):\n",
    "    now = float(a[1]) + (float(a[1])/2)*x\n",
    "    sum = sum + now\n",
    "print(sum)"
   ]
  }
 ],
 "metadata": {
  "kernelspec": {
   "display_name": "Python 3",
   "language": "python",
   "name": "python3"
  },
  "nbTranslate": {
   "displayLangs": [
    "*"
   ],
   "hotkey": "alt-t",
   "langInMainMenu": true,
   "sourceLang": "en",
   "targetLang": "fr",
   "useGoogleTranslate": true
  }
 },
 "nbformat": 4,
 "nbformat_minor": 2
}
