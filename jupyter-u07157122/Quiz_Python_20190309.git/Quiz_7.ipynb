{
 "cells": [
  {
   "cell_type": "code",
   "execution_count": 45,
   "metadata": {},
   "outputs": [
    {
     "name": "stdout",
     "output_type": "stream",
     "text": [
      "1.6689 100.0 3.773\n",
      "377.3\n"
     ]
    }
   ],
   "source": [
    "a=input()\n",
    "a = a.split()\n",
    "for x in range(0,3):\n",
    "    a[x] = float(a[x])\n",
    "\n",
    "for x in range(0,3):\n",
    "    for y in range(0,3):\n",
    "        swap = 0\n",
    "        if a[x]<a[y]:\n",
    "            swap = a[x]\n",
    "            a[x] = a[y]\n",
    "            a[y] = swap\n",
    "\n",
    "print(a[1]*a[2])"
   ]
  },
  {
   "cell_type": "code",
   "execution_count": 24,
   "metadata": {},
   "outputs": [
    {
     "data": {
      "text/plain": [
       "'2'"
      ]
     },
     "execution_count": 24,
     "metadata": {},
     "output_type": "execute_result"
    }
   ],
   "source": [
    "a[1]"
   ]
  }
 ],
 "metadata": {
  "kernelspec": {
   "display_name": "Python 3",
   "language": "python",
   "name": "python3"
  },
  "language_info": {
   "codemirror_mode": {
    "name": "ipython",
    "version": 3
   },
   "file_extension": ".py",
   "mimetype": "text/x-python",
   "name": "python",
   "nbconvert_exporter": "python",
   "pygments_lexer": "ipython3",
   "version": "3.6.7"
  },
  "nbTranslate": {
   "displayLangs": [
    "*"
   ],
   "hotkey": "alt-t",
   "langInMainMenu": true,
   "sourceLang": "en",
   "targetLang": "fr",
   "useGoogleTranslate": true
  }
 },
 "nbformat": 4,
 "nbformat_minor": 2
}
