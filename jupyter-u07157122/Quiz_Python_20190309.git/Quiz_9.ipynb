{
 "cells": [
  {
   "cell_type": "code",
   "execution_count": 25,
   "metadata": {},
   "outputs": [
    {
     "name": "stdout",
     "output_type": "stream",
     "text": [
      "211\n",
      "3_1_1\n"
     ]
    }
   ],
   "source": [
    "import code\n",
    "\n",
    "a = int(input())\n",
    "day=0;dayly=1;\n",
    "while(1):\n",
    "    \n",
    "    if dayly == 1:\n",
    "        if (a - 15) <= 0:\n",
    "            dayly = 1\n",
    "            break\n",
    "        else:\n",
    "            day += 1\n",
    "            a -= 15\n",
    "    elif dayly ==2:\n",
    "        if (a - 30) <= 0:\n",
    "            dayly -= 1\n",
    "            break\n",
    "        else:\n",
    "            a -= 30\n",
    "    elif dayly ==3:\n",
    "        if (a - 25) <= 0:\n",
    "            dayly -= 1\n",
    "            day += 1\n",
    "            break\n",
    "        else:\n",
    "            \n",
    "            a -= 25\n",
    "            \n",
    "    if dayly == 3:    \n",
    "        dayly = 0\n",
    "        \n",
    "    dayly += 1\n",
    "    \n",
    "print(day,end='_')\n",
    "print(dayly,end='_')\n",
    "print(a)\n",
    "#輸出三個整數，並且用底線當作分隔符號。\n",
    "\n",
    "#第1個整數：可以使用到第幾天。\n",
    "\n",
    "#第2個整數：那一天的第幾份訂單完成後，剩餘的張數不足下一份訂單使用。\n",
    "\n",
    "#第3個整數：最後剩下多少紙張。\n",
    "\n",
    "        \n",
    "#第1份訂單用紙量 : 15張\n",
    "\n",
    "#第2份訂單用紙量 : 30張\n",
    "\n",
    "#第3份訂單用紙量 : 25張"
   ]
  }
 ],
 "metadata": {
  "kernelspec": {
   "display_name": "Python 3",
   "language": "python",
   "name": "python3"
  },
  "language_info": {
   "codemirror_mode": {
    "name": "ipython",
    "version": 3
   },
   "file_extension": ".py",
   "mimetype": "text/x-python",
   "name": "python",
   "nbconvert_exporter": "python",
   "pygments_lexer": "ipython3",
   "version": "3.6.7"
  },
  "nbTranslate": {
   "displayLangs": [
    "*"
   ],
   "hotkey": "alt-t",
   "langInMainMenu": true,
   "sourceLang": "en",
   "targetLang": "fr",
   "useGoogleTranslate": true
  }
 },
 "nbformat": 4,
 "nbformat_minor": 2
}
