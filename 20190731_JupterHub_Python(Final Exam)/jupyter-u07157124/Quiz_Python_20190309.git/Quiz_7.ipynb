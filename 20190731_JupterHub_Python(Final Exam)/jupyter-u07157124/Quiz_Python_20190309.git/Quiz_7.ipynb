{
 "cells": [
  {
   "cell_type": "code",
   "execution_count": 2,
   "metadata": {},
   "outputs": [
    {
     "name": "stdout",
     "output_type": "stream",
     "text": [
      "1.6689\n",
      "100.0\n",
      "3.773\n",
      "377.3\n"
     ]
    }
   ],
   "source": [
    "a = float(input())\n",
    "b = float(input())\n",
    "c = float(input())\n",
    "\n",
    "if a>b and a>c:\n",
    "    if b>c:\n",
    "        num = a*b\n",
    "        print(num)\n",
    "    else:\n",
    "        num = a*c\n",
    "        print(num)\n",
    "elif b>a and b>c:\n",
    "    if a>c:\n",
    "        num = b*a\n",
    "        print(num)\n",
    "    else:\n",
    "        num = b*c\n",
    "        print(num)\n",
    "else:\n",
    "    if a>b:\n",
    "        num = c*a\n",
    "        print(num)\n",
    "    else:\n",
    "        num = c*b\n",
    "        print(num)"
   ]
  },
  {
   "cell_type": "code",
   "execution_count": null,
   "metadata": {},
   "outputs": [],
   "source": []
  }
 ],
 "metadata": {
  "kernelspec": {
   "display_name": "Python 3",
   "language": "python",
   "name": "python3"
  },
  "language_info": {
   "codemirror_mode": {
    "name": "ipython",
    "version": 3
   },
   "file_extension": ".py",
   "mimetype": "text/x-python",
   "name": "python",
   "nbconvert_exporter": "python",
   "pygments_lexer": "ipython3",
   "version": "3.6.7"
  },
  "nbTranslate": {
   "displayLangs": [
    "*"
   ],
   "hotkey": "alt-t",
   "langInMainMenu": true,
   "sourceLang": "en",
   "targetLang": "fr",
   "useGoogleTranslate": true
  }
 },
 "nbformat": 4,
 "nbformat_minor": 2
}
