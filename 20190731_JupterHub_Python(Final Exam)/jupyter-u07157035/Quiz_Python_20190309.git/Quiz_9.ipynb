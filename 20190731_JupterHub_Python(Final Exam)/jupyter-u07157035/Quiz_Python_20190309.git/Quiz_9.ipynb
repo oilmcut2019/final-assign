{
 "cells": [
  {
   "cell_type": "code",
   "execution_count": 6,
   "metadata": {},
   "outputs": [
    {
     "name": "stdout",
     "output_type": "stream",
     "text": [
      "320\n",
      "5 _ 1 _ 25\n"
     ]
    }
   ],
   "source": [
    "a=int(input())\n",
    "x=1\n",
    "while a>=70:\n",
    "    a=a-70\n",
    "    x+=1\n",
    "if 15<=a<45:\n",
    "    a=a-15\n",
    "    y=1\n",
    "elif 45<=a<70:\n",
    "    a=a-30\n",
    "    y=2\n",
    "else:\n",
    "    y=0\n",
    "print(x,\"_\",y,\"_\",a)"
   ]
  }
 ],
 "metadata": {
  "kernelspec": {
   "display_name": "Python 3",
   "language": "python",
   "name": "python3"
  },
  "language_info": {
   "codemirror_mode": {
    "name": "ipython",
    "version": 3
   },
   "file_extension": ".py",
   "mimetype": "text/x-python",
   "name": "python",
   "nbconvert_exporter": "python",
   "pygments_lexer": "ipython3",
   "version": "3.6.7"
  },
  "nbTranslate": {
   "displayLangs": [
    "*"
   ],
   "hotkey": "alt-t",
   "langInMainMenu": true,
   "sourceLang": "en",
   "targetLang": "fr",
   "useGoogleTranslate": true
  }
 },
 "nbformat": 4,
 "nbformat_minor": 2
}
