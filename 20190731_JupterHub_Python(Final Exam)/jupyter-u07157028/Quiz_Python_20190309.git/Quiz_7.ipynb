{
 "cells": [
  {
   "cell_type": "code",
   "execution_count": 8,
   "metadata": {},
   "outputs": [
    {
     "name": "stdout",
     "output_type": "stream",
     "text": [
      "first5\n",
      "second3\n",
      "third1\n",
      "15.0\n"
     ]
    }
   ],
   "source": [
    "a = float(input(\"first\"))\n",
    "b = float(input(\"second\"))\n",
    "c = float(input(\"third\"))\n",
    "\n",
    "ans = 0\n",
    "if a>b:\n",
    "    if a>c:\n",
    "        t=a\n",
    "if b>a:\n",
    "    if b>c:\n",
    "        t=b\n",
    "if c>a:\n",
    "    if c>b:\n",
    "        t=c\n",
    "if t>a>b:\n",
    "    t2=a\n",
    "if t>a>c:\n",
    "    t2=a\n",
    "if t>b>c:\n",
    "    t2=b\n",
    "if t>b>a:\n",
    "    t2=b\n",
    "if t>c>b:\n",
    "    t2=c\n",
    "if t>c>a:\n",
    "    t2=c\n",
    "ans=t*t2\n",
    "print(ans)"
   ]
  },
  {
   "cell_type": "code",
   "execution_count": null,
   "metadata": {},
   "outputs": [],
   "source": []
  }
 ],
 "metadata": {
  "kernelspec": {
   "display_name": "Python 3",
   "language": "python",
   "name": "python3"
  },
  "language_info": {
   "codemirror_mode": {
    "name": "ipython",
    "version": 3
   },
   "file_extension": ".py",
   "mimetype": "text/x-python",
   "name": "python",
   "nbconvert_exporter": "python",
   "pygments_lexer": "ipython3",
   "version": "3.6.7"
  },
  "nbTranslate": {
   "displayLangs": [
    "*"
   ],
   "hotkey": "alt-t",
   "langInMainMenu": true,
   "sourceLang": "en",
   "targetLang": "fr",
   "useGoogleTranslate": true
  }
 },
 "nbformat": 4,
 "nbformat_minor": 2
}
