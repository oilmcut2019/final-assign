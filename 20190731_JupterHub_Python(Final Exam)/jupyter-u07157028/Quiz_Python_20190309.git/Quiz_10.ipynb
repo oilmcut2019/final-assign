{
 "cells": [
  {
   "cell_type": "code",
   "execution_count": 1,
   "metadata": {},
   "outputs": [
    {
     "name": "stdout",
     "output_type": "stream",
     "text": [
      "floor5\n",
      "time1\n",
      "10.0\n"
     ]
    }
   ],
   "source": [
    "n = int(input(\"floor\"))\n",
    "x = float(input(\"time\"))\n",
    "cnt = int(0)\n",
    "ft = float(x)\n",
    "t=float(0)\n",
    "while cnt<n:\n",
    "    t=t+ft\n",
    "    cnt=cnt+1\n",
    "    ft=ft+(x/2)\n",
    "print(t)\n",
    "\n"
   ]
  },
  {
   "cell_type": "code",
   "execution_count": null,
   "metadata": {},
   "outputs": [],
   "source": []
  }
 ],
 "metadata": {
  "kernelspec": {
   "display_name": "Python 3",
   "language": "python",
   "name": "python3"
  },
  "language_info": {
   "codemirror_mode": {
    "name": "ipython",
    "version": 3
   },
   "file_extension": ".py",
   "mimetype": "text/x-python",
   "name": "python",
   "nbconvert_exporter": "python",
   "pygments_lexer": "ipython3",
   "version": "3.6.7"
  },
  "nbTranslate": {
   "displayLangs": [
    "*"
   ],
   "hotkey": "alt-t",
   "langInMainMenu": true,
   "sourceLang": "en",
   "targetLang": "fr",
   "useGoogleTranslate": true
  }
 },
 "nbformat": 4,
 "nbformat_minor": 2
}
