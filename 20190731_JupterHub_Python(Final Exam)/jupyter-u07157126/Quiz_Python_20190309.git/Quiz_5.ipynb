{
 "cells": [
  {
   "cell_type": "code",
   "execution_count": 3,
   "metadata": {},
   "outputs": [
    {
     "name": "stdout",
     "output_type": "stream",
     "text": [
      "4\n",
      "spring\n"
     ]
    }
   ],
   "source": [
    "a=int(input())\n",
    "season=[[12,1,2],[3,4,5],[6,7,8],[9,10,11]]\n",
    "if a in season[0][0:3]:\n",
    "    print(\"winter\")\n",
    "elif a in season[1][0:3]:\n",
    "    print(\"spring\")\n",
    "elif a in season[2][0:3]:\n",
    "    print(\"summer\")\n",
    "elif a in season[3][0:3]:\n",
    "    print(\"fall\")\n"
   ]
  },
  {
   "cell_type": "code",
   "execution_count": 4,
   "metadata": {},
   "outputs": [
    {
     "name": "stdout",
     "output_type": "stream",
     "text": [
      "12\n",
      "winter\n"
     ]
    }
   ],
   "source": [
    "a=int(input())\n",
    "season=[[12,1,2],[3,4,5],[6,7,8],[9,10,11]]\n",
    "if a in season[0][0:3]:\n",
    "    print(\"winter\")\n",
    "elif a in season[1][0:3]:\n",
    "    print(\"spring\")\n",
    "elif a in season[2][0:3]:\n",
    "    print(\"summer\")\n",
    "elif a in season[3][0:3]:\n",
    "    print(\"fall\")"
   ]
  },
  {
   "cell_type": "code",
   "execution_count": null,
   "metadata": {},
   "outputs": [],
   "source": []
  }
 ],
 "metadata": {
  "kernelspec": {
   "display_name": "Python 3",
   "language": "python",
   "name": "python3"
  },
  "language_info": {
   "codemirror_mode": {
    "name": "ipython",
    "version": 3
   },
   "file_extension": ".py",
   "mimetype": "text/x-python",
   "name": "python",
   "nbconvert_exporter": "python",
   "pygments_lexer": "ipython3",
   "version": "3.6.7"
  },
  "nbTranslate": {
   "displayLangs": [
    "*"
   ],
   "hotkey": "alt-t",
   "langInMainMenu": true,
   "sourceLang": "en",
   "targetLang": "fr",
   "useGoogleTranslate": true
  }
 },
 "nbformat": 4,
 "nbformat_minor": 2
}
