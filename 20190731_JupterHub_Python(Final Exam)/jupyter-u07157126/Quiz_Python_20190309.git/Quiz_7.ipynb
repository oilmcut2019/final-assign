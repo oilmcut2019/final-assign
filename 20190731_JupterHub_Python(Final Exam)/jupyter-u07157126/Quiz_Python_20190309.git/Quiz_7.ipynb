{
 "cells": [
  {
   "cell_type": "code",
   "execution_count": 11,
   "metadata": {},
   "outputs": [
    {
     "name": "stdout",
     "output_type": "stream",
     "text": [
      "5.7\n",
      "7.62\n",
      "1.7778\n",
      "43.434000000000005\n"
     ]
    }
   ],
   "source": [
    "a=float(input())\n",
    "b=float(input())\n",
    "c=float(input())\n",
    "\n",
    "if a>b:\n",
    "    if b>c:\n",
    "        print(a*b)\n",
    "    elif c>b:\n",
    "        print(a*c)\n",
    "elif b>a:\n",
    "    if a>c:\n",
    "        print(a*b)\n",
    "    elif c>a:\n",
    "        print(b*c)"
   ]
  },
  {
   "cell_type": "code",
   "execution_count": 12,
   "metadata": {},
   "outputs": [
    {
     "name": "stdout",
     "output_type": "stream",
     "text": [
      "1.6689\n",
      "100\n",
      "3.773\n",
      "377.3\n"
     ]
    }
   ],
   "source": [
    "a=float(input())\n",
    "b=float(input())\n",
    "c=float(input())\n",
    "\n",
    "if a>b:\n",
    "    if b>c:\n",
    "        print(a*b)\n",
    "    elif c>b:\n",
    "        print(a*c)\n",
    "elif b>a:\n",
    "    if a>c:\n",
    "        print(a*b)\n",
    "    elif c>a:\n",
    "        print(b*c)"
   ]
  },
  {
   "cell_type": "code",
   "execution_count": null,
   "metadata": {},
   "outputs": [],
   "source": []
  }
 ],
 "metadata": {
  "kernelspec": {
   "display_name": "Python 3",
   "language": "python",
   "name": "python3"
  },
  "language_info": {
   "codemirror_mode": {
    "name": "ipython",
    "version": 3
   },
   "file_extension": ".py",
   "mimetype": "text/x-python",
   "name": "python",
   "nbconvert_exporter": "python",
   "pygments_lexer": "ipython3",
   "version": "3.6.7"
  },
  "nbTranslate": {
   "displayLangs": [
    "*"
   ],
   "hotkey": "alt-t",
   "langInMainMenu": true,
   "sourceLang": "en",
   "targetLang": "fr",
   "useGoogleTranslate": true
  }
 },
 "nbformat": 4,
 "nbformat_minor": 2
}
