{
 "cells": [
  {
   "cell_type": "code",
   "execution_count": 1,
   "metadata": {},
   "outputs": [
    {
     "name": "stdout",
     "output_type": "stream",
     "text": [
      "A=1\n",
      "B=2\n",
      "C=3\n",
      "6.0\n"
     ]
    }
   ],
   "source": [
    "A=float(input(\"A=\"))\n",
    "B=float(input(\"B=\"))\n",
    "C=float(input(\"C=\"))\n",
    "if A>B>C:\n",
    "    print(A*B)\n",
    "elif A>C>B:\n",
    "    print(A*C)\n",
    "elif B>A>C:\n",
    "    print(B*A)\n",
    "elif B>C>A:\n",
    "    print(B*C)\n",
    "elif C>A>B:\n",
    "    print(C*A)\n",
    "elif C>B>A:\n",
    "    print(C*B)\n",
    "else:\n",
    "    print(\"X\")\n"
   ]
  },
  {
   "cell_type": "code",
   "execution_count": null,
   "metadata": {},
   "outputs": [],
   "source": []
  }
 ],
 "metadata": {
  "kernelspec": {
   "display_name": "Python 3",
   "language": "python",
   "name": "python3"
  },
  "language_info": {
   "codemirror_mode": {
    "name": "ipython",
    "version": 3
   },
   "file_extension": ".py",
   "mimetype": "text/x-python",
   "name": "python",
   "nbconvert_exporter": "python",
   "pygments_lexer": "ipython3",
   "version": "3.6.7"
  },
  "nbTranslate": {
   "displayLangs": [
    "*"
   ],
   "hotkey": "alt-t",
   "langInMainMenu": true,
   "sourceLang": "en",
   "targetLang": "fr",
   "useGoogleTranslate": true
  }
 },
 "nbformat": 4,
 "nbformat_minor": 2
}
