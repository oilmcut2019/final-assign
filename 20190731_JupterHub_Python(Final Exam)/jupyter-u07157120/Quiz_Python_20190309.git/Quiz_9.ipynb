{
 "cells": [
  {
   "cell_type": "code",
   "execution_count": 1,
   "metadata": {},
   "outputs": [
    {
     "name": "stdout",
     "output_type": "stream",
     "text": [
      "x=320\n",
      "5 _ 1 _ 25\n"
     ]
    }
   ],
   "source": [
    "x=int(input(\"x=\"))\n",
    "day=1\n",
    "while x>0:\n",
    "    x=x-15;y=1\n",
    "    if x<30:\n",
    "        break\n",
    "    x=x-30;y=y+1\n",
    "    if x<25:\n",
    "        break\n",
    "    x=x-25;y=y+1\n",
    "    if x<15:\n",
    "        break\n",
    "    day=day+1\n",
    "print(day,'_',y,'_',x)"
   ]
  },
  {
   "cell_type": "code",
   "execution_count": null,
   "metadata": {},
   "outputs": [],
   "source": []
  }
 ],
 "metadata": {
  "kernelspec": {
   "display_name": "Python 3",
   "language": "python",
   "name": "python3"
  },
  "language_info": {
   "codemirror_mode": {
    "name": "ipython",
    "version": 3
   },
   "file_extension": ".py",
   "mimetype": "text/x-python",
   "name": "python",
   "nbconvert_exporter": "python",
   "pygments_lexer": "ipython3",
   "version": "3.6.7"
  },
  "nbTranslate": {
   "displayLangs": [
    "*"
   ],
   "hotkey": "alt-t",
   "langInMainMenu": true,
   "sourceLang": "en",
   "targetLang": "fr",
   "useGoogleTranslate": true
  }
 },
 "nbformat": 4,
 "nbformat_minor": 2
}
