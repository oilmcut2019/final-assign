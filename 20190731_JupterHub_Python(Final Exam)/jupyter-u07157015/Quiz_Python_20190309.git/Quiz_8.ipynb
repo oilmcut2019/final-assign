{
 "cells": [
  {
   "cell_type": "code",
   "execution_count": 5,
   "metadata": {},
   "outputs": [
    {
     "name": "stdout",
     "output_type": "stream",
     "text": [
      "50\n",
      "A\n",
      "A\n",
      "A\n",
      "-4\n"
     ]
    }
   ],
   "source": [
    "aug =int(input())\n",
    "while aug :\n",
    "    hk416=input()\n",
    "    if hk416 == 'A' :\n",
    "        aug -=18\n",
    "    if hk416 == 'B' :\n",
    "        aug -=28\n",
    "    if hk416 == 'C' :\n",
    "        aug -=10\n",
    "    if hk416 == 'D' :\n",
    "        aug -=50\n",
    "    if hk416 == 'E' :\n",
    "        aug -=89\n",
    "    if aug <0:\n",
    "        print(aug)\n",
    "        break\n",
    "\n",
    "\n",
    "\n"
   ]
  },
  {
   "cell_type": "code",
   "execution_count": null,
   "metadata": {},
   "outputs": [],
   "source": []
  },
  {
   "cell_type": "code",
   "execution_count": null,
   "metadata": {},
   "outputs": [],
   "source": []
  },
  {
   "cell_type": "code",
   "execution_count": null,
   "metadata": {},
   "outputs": [],
   "source": []
  }
 ],
 "metadata": {
  "kernelspec": {
   "display_name": "Python 3",
   "language": "python",
   "name": "python3"
  },
  "language_info": {
   "codemirror_mode": {
    "name": "ipython",
    "version": 3
   },
   "file_extension": ".py",
   "mimetype": "text/x-python",
   "name": "python",
   "nbconvert_exporter": "python",
   "pygments_lexer": "ipython3",
   "version": "3.6.7"
  },
  "nbTranslate": {
   "displayLangs": [
    "*"
   ],
   "hotkey": "alt-t",
   "langInMainMenu": true,
   "sourceLang": "en",
   "targetLang": "fr",
   "useGoogleTranslate": true
  }
 },
 "nbformat": 4,
 "nbformat_minor": 2
}
