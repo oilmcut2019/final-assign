{
 "cells": [
  {
   "cell_type": "code",
   "execution_count": null,
   "metadata": {},
   "outputs": [],
   "source": [
    "now = 0\n",
    "go = object()\n",
    "first = False\n",
    "\n",
    "while(1):\n",
    "    if first == False:\n",
    "        now = int(input())\n",
    "        first = True\n",
    "        if (now <= 0):\n",
    "            break\n",
    "    else:\n",
    "        go = input()\n",
    "        if go == 'A':\n",
    "            now -= 18\n",
    "        elif go == 'B':\n",
    "            now -= 28\n",
    "        elif go == 'C':\n",
    "            now -= 10\n",
    "        elif go == 'D':\n",
    "            now -= 50\n",
    "        elif go == 'E':\n",
    "            now -= 89\n",
    "        \n",
    "\n",
    "        if (now <= 0):\n",
    "            break\n",
    "\n",
    "print(now)\n",
    "            \n",
    "#當輸入A時，將目前數值 減去 18\n",
    "\n",
    "#當輸入B時，將目前數值 減去 28\n",
    "\n",
    "#當輸入C，將目前數值 減去10\n",
    "\n",
    "#當輸入D，將目前數值 減去 50\n",
    "\n",
    "#當輸入E，將目前數值 減去 89"
   ]
  },
  {
   "cell_type": "code",
   "execution_count": null,
   "metadata": {},
   "outputs": [],
   "source": []
  }
 ],
 "metadata": {
  "kernelspec": {
   "display_name": "Python 3",
   "language": "python",
   "name": "python3"
  },
  "language_info": {
   "codemirror_mode": {
    "name": "ipython",
    "version": 3
   },
   "file_extension": ".py",
   "mimetype": "text/x-python",
   "name": "python",
   "nbconvert_exporter": "python",
   "pygments_lexer": "ipython3",
   "version": "3.6.7"
  },
  "nbTranslate": {
   "displayLangs": [
    "*"
   ],
   "hotkey": "alt-t",
   "langInMainMenu": true,
   "sourceLang": "en",
   "targetLang": "fr",
   "useGoogleTranslate": true
  }
 },
 "nbformat": 4,
 "nbformat_minor": 2
}
