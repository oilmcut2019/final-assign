{
 "cells": [
  {
   "cell_type": "code",
   "execution_count": 2,
   "metadata": {},
   "outputs": [
    {
     "name": "stdout",
     "output_type": "stream",
     "text": [
      "key the month : 3\n",
      "Spring\n"
     ]
    }
   ],
   "source": [
    "season = [[3,4,5],[6,7,8],[9,10,11],[12,1,2]]\n",
    "\n",
    "number = int(input('key the month : '))\n",
    "if number in season[0][0:3]:\n",
    "    print('Spring')\n",
    "elif number in season[1][0:3]:\n",
    "    print('Summer')\n",
    "elif number in season[2][0:3]:\n",
    "    print('Fall')\n",
    "elif number in season[3][0:3]:\n",
    "    print('Winter')\n",
    "else:\n",
    "    print('not month')"
   ]
  }
 ],
 "metadata": {
  "kernelspec": {
   "display_name": "Python 3",
   "language": "python",
   "name": "python3"
  },
  "language_info": {
   "codemirror_mode": {
    "name": "ipython",
    "version": 3
   },
   "file_extension": ".py",
   "mimetype": "text/x-python",
   "name": "python",
   "nbconvert_exporter": "python",
   "pygments_lexer": "ipython3",
   "version": "3.6.7"
  },
  "nbTranslate": {
   "displayLangs": [
    "*"
   ],
   "hotkey": "alt-t",
   "langInMainMenu": true,
   "sourceLang": "en",
   "targetLang": "fr",
   "useGoogleTranslate": true
  }
 },
 "nbformat": 4,
 "nbformat_minor": 2
}
