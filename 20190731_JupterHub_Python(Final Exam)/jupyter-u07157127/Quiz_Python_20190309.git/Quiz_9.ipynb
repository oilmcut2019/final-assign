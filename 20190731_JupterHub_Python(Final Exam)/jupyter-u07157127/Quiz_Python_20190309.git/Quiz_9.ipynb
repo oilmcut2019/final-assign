{
 "cells": [
  {
   "cell_type": "code",
   "execution_count": 20,
   "metadata": {},
   "outputs": [
    {
     "name": "stdout",
     "output_type": "stream",
     "text": [
      "320\n",
      "5 _ 1 _ 25\n"
     ]
    }
   ],
   "source": [
    "a=int(input())\n",
    "d=0\n",
    "t=0\n",
    "while a>0:\n",
    "        d+=1\n",
    "        a-=15\n",
    "        if a<30:\n",
    "            t=1\n",
    "            break;\n",
    "        else:  \n",
    "            a-=30\n",
    "            \n",
    "            if a<25:\n",
    "                t=2\n",
    "                break;\n",
    "            else:\n",
    "                a-=25\n",
    "                \n",
    "                if a<15:\n",
    "                    t=3\n",
    "                    break;\n",
    "                    \n",
    "\n",
    "                    \n",
    "print(d,\"_\",t,\"_\",a)\n",
    "    "
   ]
  },
  {
   "cell_type": "code",
   "execution_count": null,
   "metadata": {},
   "outputs": [],
   "source": []
  }
 ],
 "metadata": {
  "kernelspec": {
   "display_name": "Python 3",
   "language": "python",
   "name": "python3"
  },
  "language_info": {
   "codemirror_mode": {
    "name": "ipython",
    "version": 3
   },
   "file_extension": ".py",
   "mimetype": "text/x-python",
   "name": "python",
   "nbconvert_exporter": "python",
   "pygments_lexer": "ipython3",
   "version": "3.6.7"
  },
  "nbTranslate": {
   "displayLangs": [
    "*"
   ],
   "hotkey": "alt-t",
   "langInMainMenu": true,
   "sourceLang": "en",
   "targetLang": "fr",
   "useGoogleTranslate": true
  }
 },
 "nbformat": 4,
 "nbformat_minor": 2
}
