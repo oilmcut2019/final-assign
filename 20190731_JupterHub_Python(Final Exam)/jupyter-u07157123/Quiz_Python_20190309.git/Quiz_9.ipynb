{
 "cells": [
  {
   "cell_type": "code",
   "execution_count": 3,
   "metadata": {
    "scrolled": true
   },
   "outputs": [
    {
     "name": "stdout",
     "output_type": "stream",
     "text": [
      "221\n",
      "3 _ 3 _ 11\n"
     ]
    }
   ],
   "source": [
    "a=int(input())\n",
    "x=int(15)\n",
    "y=int(30)\n",
    "z=int(25)\n",
    "day=1\n",
    "while(a>=0):\n",
    "    a-=x;b=1\n",
    "    if(a<y):\n",
    "        break\n",
    "    a-=y;b+=1\n",
    "    if(a<z):\n",
    "        break\n",
    "    a-=z;b+=1\n",
    "    if(a<x):\n",
    "        break\n",
    "    day+=1\n",
    "    \n",
    "print(day,'_',b,'_',a)"
   ]
  },
  {
   "cell_type": "code",
   "execution_count": null,
   "metadata": {},
   "outputs": [],
   "source": []
  }
 ],
 "metadata": {
  "kernelspec": {
   "display_name": "Python 3",
   "language": "python",
   "name": "python3"
  },
  "language_info": {
   "codemirror_mode": {
    "name": "ipython",
    "version": 3
   },
   "file_extension": ".py",
   "mimetype": "text/x-python",
   "name": "python",
   "nbconvert_exporter": "python",
   "pygments_lexer": "ipython3",
   "version": "3.6.7"
  },
  "nbTranslate": {
   "displayLangs": [
    "*"
   ],
   "hotkey": "alt-t",
   "langInMainMenu": true,
   "sourceLang": "en",
   "targetLang": "fr",
   "useGoogleTranslate": true
  }
 },
 "nbformat": 4,
 "nbformat_minor": 2
}
