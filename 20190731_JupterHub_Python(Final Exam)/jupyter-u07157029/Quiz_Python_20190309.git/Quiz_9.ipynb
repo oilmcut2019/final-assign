{
 "cells": [
  {
   "cell_type": "code",
   "execution_count": 7,
   "metadata": {},
   "outputs": [
    {
     "name": "stdout",
     "output_type": "stream",
     "text": [
      "221\n",
      "3 _ 3 _ 11\n"
     ]
    }
   ],
   "source": [
    "'''\n",
    "第1份訂單用紙量 : 15張\n",
    "\n",
    "第2份訂單用紙量 : 30張\n",
    "\n",
    "第3份訂單用紙量 : 25張 \n",
    "'''\n",
    "paper=int(input())\n",
    "a=paper%70\n",
    "if (a%70==0):\n",
    "    x=paper//70\n",
    "elif (a<15):\n",
    "    x=paper//70\n",
    "else:\n",
    "    x=paper//70+1\n",
    "if (a<15):\n",
    "    b=3\n",
    "    c=a\n",
    "if(15<a<45):\n",
    "    b=1\n",
    "    c=a-15\n",
    "if (45<a<70):\n",
    "    b=2\n",
    "    c=a-45\n",
    "print(x,'_',b,'_',c)\n"
   ]
  },
  {
   "cell_type": "code",
   "execution_count": null,
   "metadata": {},
   "outputs": [],
   "source": []
  }
 ],
 "metadata": {
  "kernelspec": {
   "display_name": "Python 3",
   "language": "python",
   "name": "python3"
  },
  "language_info": {
   "codemirror_mode": {
    "name": "ipython",
    "version": 3
   },
   "file_extension": ".py",
   "mimetype": "text/x-python",
   "name": "python",
   "nbconvert_exporter": "python",
   "pygments_lexer": "ipython3",
   "version": "3.6.8"
  },
  "nbTranslate": {
   "displayLangs": [
    "*"
   ],
   "hotkey": "alt-t",
   "langInMainMenu": true,
   "sourceLang": "en",
   "targetLang": "fr",
   "useGoogleTranslate": true
  }
 },
 "nbformat": 4,
 "nbformat_minor": 2
}
