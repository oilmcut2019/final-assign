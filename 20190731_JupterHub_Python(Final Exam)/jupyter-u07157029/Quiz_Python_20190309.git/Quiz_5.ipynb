{
 "cells": [
  {
   "cell_type": "code",
   "execution_count": 20,
   "metadata": {},
   "outputs": [
    {
     "name": "stdout",
     "output_type": "stream",
     "text": [
      "12\n",
      "winter\n"
     ]
    }
   ],
   "source": [
    "'''\n",
    "spring : 3、4、5 月\n",
    "\n",
    "summer : 6、7、8 月\n",
    "\n",
    "fall : 9、10、11 月\n",
    "\n",
    "winter : 12、1、2 月\n",
    "'''\n",
    "a=int(input())\n",
    "if a==3 or a==4 or a==5:\n",
    "    print('spring')\n",
    "elif a==6 or a==7 or a==8:\n",
    "    print('summer')\n",
    "elif a==9 or a==10 or a==11:\n",
    "    print('fall')\n",
    "elif a==12 or a==1 or a==2:\n",
    "    print('winter')"
   ]
  },
  {
   "cell_type": "code",
   "execution_count": null,
   "metadata": {},
   "outputs": [],
   "source": []
  }
 ],
 "metadata": {
  "kernelspec": {
   "display_name": "Python 3",
   "language": "python",
   "name": "python3"
  },
  "language_info": {
   "codemirror_mode": {
    "name": "ipython",
    "version": 3
   },
   "file_extension": ".py",
   "mimetype": "text/x-python",
   "name": "python",
   "nbconvert_exporter": "python",
   "pygments_lexer": "ipython3",
   "version": "3.6.7"
  },
  "nbTranslate": {
   "displayLangs": [
    "*"
   ],
   "hotkey": "alt-t",
   "langInMainMenu": true,
   "sourceLang": "en",
   "targetLang": "fr",
   "useGoogleTranslate": true
  }
 },
 "nbformat": 4,
 "nbformat_minor": 2
}
