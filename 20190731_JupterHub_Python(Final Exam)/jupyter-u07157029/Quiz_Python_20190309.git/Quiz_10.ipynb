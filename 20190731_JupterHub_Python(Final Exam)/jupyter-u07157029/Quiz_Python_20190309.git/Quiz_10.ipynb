{
 "cells": [
  {
   "cell_type": "code",
   "execution_count": 2,
   "metadata": {},
   "outputs": [
    {
     "name": "stdout",
     "output_type": "stream",
     "text": [
      "5\n",
      "10\n",
      "100.0\n"
     ]
    }
   ],
   "source": [
    "'''\n",
    "第一樓7.2分鐘 第四樓(7.2+3.6*3)分鐘\n",
    "\n",
    "第二樓(7.2+3.6*1)分鐘 總共50.4分鐘\n",
    "\n",
    "第三樓(7.2+3.6*2)分鐘  \n",
    "'''\n",
    "total=0\n",
    "n=int(input())\n",
    "first=float(input())\n",
    "b=first/2\n",
    "for i in range(1,n+1):\n",
    "    floor=first+b*(i-1)\n",
    "    total+=floor\n",
    "print(total)"
   ]
  },
  {
   "cell_type": "code",
   "execution_count": null,
   "metadata": {},
   "outputs": [],
   "source": []
  },
  {
   "cell_type": "code",
   "execution_count": null,
   "metadata": {},
   "outputs": [],
   "source": []
  }
 ],
 "metadata": {
  "kernelspec": {
   "display_name": "Python 3",
   "language": "python",
   "name": "python3"
  },
  "language_info": {
   "codemirror_mode": {
    "name": "ipython",
    "version": 3
   },
   "file_extension": ".py",
   "mimetype": "text/x-python",
   "name": "python",
   "nbconvert_exporter": "python",
   "pygments_lexer": "ipython3",
   "version": "3.6.8"
  },
  "nbTranslate": {
   "displayLangs": [
    "*"
   ],
   "hotkey": "alt-t",
   "langInMainMenu": true,
   "sourceLang": "en",
   "targetLang": "fr",
   "useGoogleTranslate": true
  }
 },
 "nbformat": 4,
 "nbformat_minor": 2
}
