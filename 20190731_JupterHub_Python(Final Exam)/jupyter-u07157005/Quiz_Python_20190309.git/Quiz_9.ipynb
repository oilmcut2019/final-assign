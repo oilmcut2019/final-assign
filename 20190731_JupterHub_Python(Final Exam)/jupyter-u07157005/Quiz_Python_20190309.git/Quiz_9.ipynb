{
 "cells": [
  {
   "cell_type": "code",
   "execution_count": 2,
   "metadata": {},
   "outputs": [
    {
     "name": "stdout",
     "output_type": "stream",
     "text": [
      "a=221\n",
      "3 _ 3 _ 11\n"
     ]
    }
   ],
   "source": [
    "a=int(input(\"a=\"))\n",
    "b=a%70\n",
    "if(a%70==0):\n",
    "    x=a/70\n",
    "elif(b<15):\n",
    "    x=a/70\n",
    "else:\n",
    "    x=a/70+1\n",
    "if(b<15):\n",
    "    y=3\n",
    "    z=b\n",
    "if(15<b<45):\n",
    "    y=1\n",
    "    z=b-15\n",
    "if(45<b<70):\n",
    "    y=2\n",
    "    z=b-45\n",
    "print(int(x),\"_\",y,\"_\",z)\n",
    "    \n"
   ]
  },
  {
   "cell_type": "code",
   "execution_count": null,
   "metadata": {},
   "outputs": [],
   "source": []
  }
 ],
 "metadata": {
  "kernelspec": {
   "display_name": "Python 3",
   "language": "python",
   "name": "python3"
  },
  "language_info": {
   "codemirror_mode": {
    "name": "ipython",
    "version": 3
   },
   "file_extension": ".py",
   "mimetype": "text/x-python",
   "name": "python",
   "nbconvert_exporter": "python",
   "pygments_lexer": "ipython3",
   "version": "3.6.7"
  },
  "nbTranslate": {
   "displayLangs": [
    "*"
   ],
   "hotkey": "alt-t",
   "langInMainMenu": true,
   "sourceLang": "en",
   "targetLang": "fr",
   "useGoogleTranslate": true
  }
 },
 "nbformat": 4,
 "nbformat_minor": 2
}
