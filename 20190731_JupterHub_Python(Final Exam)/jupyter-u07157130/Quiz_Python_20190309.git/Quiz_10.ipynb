{
 "cells": [
  {
   "cell_type": "code",
   "execution_count": 6,
   "metadata": {},
   "outputs": [
    {
     "name": "stdout",
     "output_type": "stream",
     "text": [
      "4\n",
      "7.2\n",
      "64.80000000000001\n"
     ]
    }
   ],
   "source": [
    "a=int(input(\"\"))\n",
    "b=float(input(\"\"))\n",
    "c=b/2\n",
    "d=1\n",
    "e=1\n",
    "f=0\n",
    "while d<=a:\n",
    "    if a==1:\n",
    "        f+=b\n",
    "        d=d+1\n",
    "    else:\n",
    "        f+=b+c*e\n",
    "        e=e+1\n",
    "        d=d+1\n",
    "print(f)"
   ]
  },
  {
   "cell_type": "code",
   "execution_count": null,
   "metadata": {},
   "outputs": [],
   "source": []
  },
  {
   "cell_type": "code",
   "execution_count": null,
   "metadata": {},
   "outputs": [],
   "source": []
  }
 ],
 "metadata": {
  "kernelspec": {
   "display_name": "Python 3",
   "language": "python",
   "name": "python3"
  },
  "language_info": {
   "codemirror_mode": {
    "name": "ipython",
    "version": 3
   },
   "file_extension": ".py",
   "mimetype": "text/x-python",
   "name": "python",
   "nbconvert_exporter": "python",
   "pygments_lexer": "ipython3",
   "version": "3.6.7"
  },
  "nbTranslate": {
   "displayLangs": [
    "*"
   ],
   "hotkey": "alt-t",
   "langInMainMenu": true,
   "sourceLang": "en",
   "targetLang": "fr",
   "useGoogleTranslate": true
  }
 },
 "nbformat": 4,
 "nbformat_minor": 2
}
