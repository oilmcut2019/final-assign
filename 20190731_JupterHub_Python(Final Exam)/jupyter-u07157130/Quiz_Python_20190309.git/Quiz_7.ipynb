{
 "cells": [
  {
   "cell_type": "code",
   "execution_count": 18,
   "metadata": {},
   "outputs": [
    {
     "name": "stdout",
     "output_type": "stream",
     "text": [
      "1.6689\n",
      "100.0\n",
      "3.773\n",
      "377.3\n"
     ]
    }
   ],
   "source": [
    "a=float(input(\"\"))\n",
    "b=float(input(\"\"))\n",
    "c=float(input(\"\"))\n",
    "if(a>b and a>c ):\n",
    "    if b>c :\n",
    "        i=a*b\n",
    "        print(i)\n",
    "    else:\n",
    "        i=a*c\n",
    "        print(i)\n",
    "elif(b>a and b>c ):\n",
    "    if a>c:\n",
    "        k=b*a\n",
    "        print(k)\n",
    "    else:\n",
    "        k=b*c\n",
    "        print(k)\n",
    "elif(c>a and c>b):\n",
    "    if (a>b):\n",
    "        j=a*c\n",
    "        print(j)\n",
    "    else:\n",
    "        j=b*c\n",
    "        print(j)"
   ]
  },
  {
   "cell_type": "code",
   "execution_count": null,
   "metadata": {},
   "outputs": [],
   "source": []
  },
  {
   "cell_type": "code",
   "execution_count": null,
   "metadata": {},
   "outputs": [],
   "source": []
  }
 ],
 "metadata": {
  "kernelspec": {
   "display_name": "Python 3",
   "language": "python",
   "name": "python3"
  },
  "language_info": {
   "codemirror_mode": {
    "name": "ipython",
    "version": 3
   },
   "file_extension": ".py",
   "mimetype": "text/x-python",
   "name": "python",
   "nbconvert_exporter": "python",
   "pygments_lexer": "ipython3",
   "version": "3.6.7"
  },
  "nbTranslate": {
   "displayLangs": [
    "*"
   ],
   "hotkey": "alt-t",
   "langInMainMenu": true,
   "sourceLang": "en",
   "targetLang": "fr",
   "useGoogleTranslate": true
  }
 },
 "nbformat": 4,
 "nbformat_minor": 2
}
