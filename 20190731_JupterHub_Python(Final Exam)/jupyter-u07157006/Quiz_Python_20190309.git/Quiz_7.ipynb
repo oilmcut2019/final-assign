{
 "cells": [
  {
   "cell_type": "code",
   "execution_count": 1,
   "metadata": {},
   "outputs": [
    {
     "name": "stdout",
     "output_type": "stream",
     "text": [
      "a=5.7\n",
      "b=7.62\n",
      "c=1.778\n",
      "43.434000000000005\n"
     ]
    }
   ],
   "source": [
    "a = float(input(\"a=\"))\n",
    "b = float(input(\"b=\"))\n",
    "c = float(input(\"c=\"))\n",
    "if a>b>c:\n",
    "    print(a*b)\n",
    "if a>c>b:\n",
    "    print(a*c)\n",
    "if b>a>c:\n",
    "    print(a*b)\n",
    "if b>c>a:\n",
    "    print(c*b)\n",
    "if c>a>b:\n",
    "    print(a*c)\n",
    "if c>b>a:\n",
    "    print(c*b)    "
   ]
  },
  {
   "cell_type": "code",
   "execution_count": null,
   "metadata": {},
   "outputs": [],
   "source": []
  }
 ],
 "metadata": {
  "kernelspec": {
   "display_name": "Python 3",
   "language": "python",
   "name": "python3"
  },
  "language_info": {
   "codemirror_mode": {
    "name": "ipython",
    "version": 3
   },
   "file_extension": ".py",
   "mimetype": "text/x-python",
   "name": "python",
   "nbconvert_exporter": "python",
   "pygments_lexer": "ipython3",
   "version": "3.6.7"
  },
  "nbTranslate": {
   "displayLangs": [
    "*"
   ],
   "hotkey": "alt-t",
   "langInMainMenu": true,
   "sourceLang": "en",
   "targetLang": "fr",
   "useGoogleTranslate": true
  }
 },
 "nbformat": 4,
 "nbformat_minor": 2
}
