{
 "cells": [
  {
   "cell_type": "code",
   "execution_count": 3,
   "metadata": {},
   "outputs": [
    {
     "name": "stdout",
     "output_type": "stream",
     "text": [
      "x=273\n",
      "E\n",
      "A\n",
      "C\n",
      "E\n",
      "A\n",
      "E\n",
      "-40\n"
     ]
    }
   ],
   "source": [
    "x=int(input(\"x=\"))\n",
    "while(x>0):\n",
    "    y=str(input(\"\"))\n",
    "    if y==\"A\":\n",
    "        x=x-18\n",
    "    elif y==\"B\":\n",
    "        x=x-28\n",
    "    elif y==\"C\":\n",
    "        x=x-10\n",
    "    elif y==\"D\":\n",
    "        x=x-50\n",
    "    elif y==\"E\":\n",
    "        x=x-89\n",
    "print(x)"
   ]
  },
  {
   "cell_type": "code",
   "execution_count": null,
   "metadata": {},
   "outputs": [],
   "source": []
  }
 ],
 "metadata": {
  "kernelspec": {
   "display_name": "Python 3",
   "language": "python",
   "name": "python3"
  },
  "language_info": {
   "codemirror_mode": {
    "name": "ipython",
    "version": 3
   },
   "file_extension": ".py",
   "mimetype": "text/x-python",
   "name": "python",
   "nbconvert_exporter": "python",
   "pygments_lexer": "ipython3",
   "version": "3.6.7"
  },
  "nbTranslate": {
   "displayLangs": [
    "*"
   ],
   "hotkey": "alt-t",
   "langInMainMenu": true,
   "sourceLang": "en",
   "targetLang": "fr",
   "useGoogleTranslate": true
  }
 },
 "nbformat": 4,
 "nbformat_minor": 2
}
