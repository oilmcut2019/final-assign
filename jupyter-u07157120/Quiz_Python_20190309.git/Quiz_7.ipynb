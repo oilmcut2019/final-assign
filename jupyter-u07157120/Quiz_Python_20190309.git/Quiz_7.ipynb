{
 "cells": [
  {
   "cell_type": "code",
   "execution_count": 3,
   "metadata": {},
   "outputs": [
    {
     "name": "stdout",
     "output_type": "stream",
     "text": [
      "x=8\n",
      "y=9\n",
      "z=10\n",
      "90\n"
     ]
    }
   ],
   "source": [
    "x=int(input(\"x=\"))\n",
    "y=int(input(\"y=\"))\n",
    "z=int(input(\"z=\"))\n",
    "if x>y :\n",
    "    if y>z:\n",
    "        print(x*y)\n",
    "if x>z:\n",
    "    if z>y:\n",
    "        print(x*z)\n",
    "if y>x :\n",
    "    if x>z:\n",
    "        print(y*x)\n",
    "if y>z :\n",
    "    if z>x:\n",
    "        print(y*z)\n",
    "if z>x :\n",
    "    if x>y:\n",
    "        print(z*x)\n",
    "if z>y :\n",
    "    if y>x:\n",
    "        print(z*y)"
   ]
  },
  {
   "cell_type": "code",
   "execution_count": null,
   "metadata": {},
   "outputs": [],
   "source": []
  }
 ],
 "metadata": {
  "kernelspec": {
   "display_name": "Python 3",
   "language": "python",
   "name": "python3"
  },
  "language_info": {
   "codemirror_mode": {
    "name": "ipython",
    "version": 3
   },
   "file_extension": ".py",
   "mimetype": "text/x-python",
   "name": "python",
   "nbconvert_exporter": "python",
   "pygments_lexer": "ipython3",
   "version": "3.6.7"
  },
  "nbTranslate": {
   "displayLangs": [
    "*"
   ],
   "hotkey": "alt-t",
   "langInMainMenu": true,
   "sourceLang": "en",
   "targetLang": "fr",
   "useGoogleTranslate": true
  }
 },
 "nbformat": 4,
 "nbformat_minor": 2
}
