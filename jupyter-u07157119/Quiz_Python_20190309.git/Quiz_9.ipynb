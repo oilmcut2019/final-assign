{
 "cells": [
  {
   "cell_type": "code",
   "execution_count": 1,
   "metadata": {},
   "outputs": [
    {
     "name": "stdout",
     "output_type": "stream",
     "text": [
      "320\n",
      "5 _ 1 _ 25\n"
     ]
    }
   ],
   "source": [
    "a=int(input())\n",
    "d=1\n",
    "s=0\n",
    "p=0\n",
    "x=100\n",
    "while x>0:\n",
    "    a-=15\n",
    "    if a>0:\n",
    "        s=1\n",
    "        p=a\n",
    "        a-=30\n",
    "        if a>0:\n",
    "            s=2\n",
    "            p=a\n",
    "            a-=25\n",
    "            if a>0:\n",
    "                p=a\n",
    "                d+=1\n",
    "                s=3\n",
    "            else:\n",
    "                print(d,\"_\",s,\"_\",p)\n",
    "                x=0\n",
    "        else:\n",
    "            print(d,\"_\",s,\"_\",p)\n",
    "            x=0\n",
    "    else:\n",
    "        print(d,\"_\",s,\"_\",p)\n",
    "        x=0"
   ]
  },
  {
   "cell_type": "code",
   "execution_count": null,
   "metadata": {},
   "outputs": [],
   "source": []
  }
 ],
 "metadata": {
  "kernelspec": {
   "display_name": "Python 3",
   "language": "python",
   "name": "python3"
  },
  "language_info": {
   "codemirror_mode": {
    "name": "ipython",
    "version": 3
   },
   "file_extension": ".py",
   "mimetype": "text/x-python",
   "name": "python",
   "nbconvert_exporter": "python",
   "pygments_lexer": "ipython3",
   "version": "3.6.7"
  },
  "nbTranslate": {
   "displayLangs": [
    "*"
   ],
   "hotkey": "alt-t",
   "langInMainMenu": true,
   "sourceLang": "en",
   "targetLang": "fr",
   "useGoogleTranslate": true
  }
 },
 "nbformat": 4,
 "nbformat_minor": 2
}
