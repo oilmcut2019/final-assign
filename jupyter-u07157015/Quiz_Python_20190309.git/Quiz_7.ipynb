{
 "cells": [
  {
   "cell_type": "code",
   "execution_count": 24,
   "metadata": {},
   "outputs": [
    {
     "name": "stdout",
     "output_type": "stream",
     "text": [
      "input98\n",
      "input62\n",
      "input30\n",
      "6076.0\n"
     ]
    }
   ],
   "source": [
    "wa2000 =float(input(\"input\"))\n",
    "iws2000=float(input(\"input\"))\n",
    "kar98k =float(input(\"input\"))\n",
    "ak12 = [wa2000,iws2000,kar98k]\n",
    "g11 = max(ak12)\n",
    "if max(ak12) ==wa2000:\n",
    "    if min(ak12) ==iws2000:\n",
    "        aug = kar98k\n",
    "if max(ak12) ==wa2000:\n",
    "    if min(ak12) ==kar98k:\n",
    "        aug = iws2000\n",
    "if max(ak12) ==iws2000:\n",
    "    if min(ak12)==wa2000:\n",
    "        aug = kar98k\n",
    "if max(ak12) ==iws2000:\n",
    "    if min(ak12)==kar98k:\n",
    "        aug = wa2000\n",
    "\n",
    "if max(ak12) ==kar98k:\n",
    "    if min(ak12) ==wa2000:\n",
    "        aug = iws2000\n",
    "if max(ak12) ==kar98k:\n",
    "    if min(ak12) ==iws2000:\n",
    "        aug = wa2000\n",
    "an94 = g11*aug    \n",
    "    \n",
    "    \n",
    "print(an94)"
   ]
  },
  {
   "cell_type": "code",
   "execution_count": null,
   "metadata": {},
   "outputs": [],
   "source": []
  }
 ],
 "metadata": {
  "kernelspec": {
   "display_name": "Python 3",
   "language": "python",
   "name": "python3"
  },
  "language_info": {
   "codemirror_mode": {
    "name": "ipython",
    "version": 3
   },
   "file_extension": ".py",
   "mimetype": "text/x-python",
   "name": "python",
   "nbconvert_exporter": "python",
   "pygments_lexer": "ipython3",
   "version": "3.6.7"
  },
  "nbTranslate": {
   "displayLangs": [
    "*"
   ],
   "hotkey": "alt-t",
   "langInMainMenu": true,
   "sourceLang": "en",
   "targetLang": "fr",
   "useGoogleTranslate": true
  }
 },
 "nbformat": 4,
 "nbformat_minor": 2
}
