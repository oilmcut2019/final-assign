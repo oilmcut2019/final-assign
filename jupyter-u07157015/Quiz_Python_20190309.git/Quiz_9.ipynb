{
 "cells": [
  {
   "cell_type": "code",
   "execution_count": 10,
   "metadata": {},
   "outputs": [
    {
     "name": "stdout",
     "output_type": "stream",
     "text": [
      "paper= 120\n",
      "50\n",
      "1 _ 2 _ 10\n",
      "paper is to lost\n"
     ]
    }
   ],
   "source": [
    "g11 = int(input(\"paper= \"))\n",
    "if g11>100:\n",
    "    g41=g11//70\n",
    "    g36=g11%70  \n",
    "    if g36<15 :\n",
    "        kar = 3\n",
    "    elif g36 <45:\n",
    "        kar=1\n",
    "    elif g36<70:\n",
    "        kar=2    \n",
    "    \n",
    "    if g36-15<0 :\n",
    "        g3 =g36\n",
    "    elif g36-40<0:\n",
    "        g3 = g36-15\n",
    "    elif g36-70<0:\n",
    "        g3 = g36-40\n",
    "    \n",
    "    \n",
    "    \n",
    "    print(g36)    \n",
    "    \n",
    "    print(g41,\"_\",kar,\"_\",g3 )\n",
    "print(\"paper is to lost\")"
   ]
  },
  {
   "cell_type": "code",
   "execution_count": null,
   "metadata": {},
   "outputs": [],
   "source": []
  },
  {
   "cell_type": "code",
   "execution_count": null,
   "metadata": {},
   "outputs": [],
   "source": []
  }
 ],
 "metadata": {
  "kernelspec": {
   "display_name": "Python 3",
   "language": "python",
   "name": "python3"
  },
  "language_info": {
   "codemirror_mode": {
    "name": "ipython",
    "version": 3
   },
   "file_extension": ".py",
   "mimetype": "text/x-python",
   "name": "python",
   "nbconvert_exporter": "python",
   "pygments_lexer": "ipython3",
   "version": "3.6.7"
  },
  "nbTranslate": {
   "displayLangs": [
    "*"
   ],
   "hotkey": "alt-t",
   "langInMainMenu": true,
   "sourceLang": "en",
   "targetLang": "fr",
   "useGoogleTranslate": true
  }
 },
 "nbformat": 4,
 "nbformat_minor": 2
}
