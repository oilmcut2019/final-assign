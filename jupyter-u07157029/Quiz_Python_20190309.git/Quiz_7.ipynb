{
 "cells": [
  {
   "cell_type": "code",
   "execution_count": 30,
   "metadata": {},
   "outputs": [
    {
     "name": "stdout",
     "output_type": "stream",
     "text": [
      "1.6689\n",
      "100.0\n",
      "3.773\n",
      "377.3\n"
     ]
    }
   ],
   "source": [
    "'''\n",
    "問題描述 : 計算3個數當中，最大的數 與 第二大的數 的乘積。\n",
    "\n",
    "輸入 : 任意輸入3個相異的數。\n",
    "\n",
    "輸出 :\n",
    "\n",
    "最大的數 與 第二大的數 的乘積\n",
    "1.6689 100.0 3.773 \n",
    "'''\n",
    "max=0\n",
    "sec=0\n",
    "a=float(input());b=float(input());c=float(input())\n",
    "if a>b>c or a>c>b:\n",
    "    max=a\n",
    "elif b>a>c or b>c>a:\n",
    "    max=b\n",
    "elif c>a>b or c>b>a:\n",
    "    max=c\n",
    "    \n",
    "if b>a>c or c>a>b:\n",
    "    sec=a\n",
    "elif a>b>c or c>b>a:\n",
    "    sec=b\n",
    "elif a>c>b or b>c>a:\n",
    "    sec=c\n",
    "\n",
    "print(max*sec)"
   ]
  },
  {
   "cell_type": "code",
   "execution_count": null,
   "metadata": {},
   "outputs": [],
   "source": []
  }
 ],
 "metadata": {
  "kernelspec": {
   "display_name": "Python 3",
   "language": "python",
   "name": "python3"
  },
  "language_info": {
   "codemirror_mode": {
    "name": "ipython",
    "version": 3
   },
   "file_extension": ".py",
   "mimetype": "text/x-python",
   "name": "python",
   "nbconvert_exporter": "python",
   "pygments_lexer": "ipython3",
   "version": "3.6.7"
  },
  "nbTranslate": {
   "displayLangs": [
    "*"
   ],
   "hotkey": "alt-t",
   "langInMainMenu": true,
   "sourceLang": "en",
   "targetLang": "fr",
   "useGoogleTranslate": true
  }
 },
 "nbformat": 4,
 "nbformat_minor": 2
}
