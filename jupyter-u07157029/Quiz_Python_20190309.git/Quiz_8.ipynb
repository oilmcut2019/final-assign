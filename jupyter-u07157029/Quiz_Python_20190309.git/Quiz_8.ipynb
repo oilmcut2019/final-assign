{
 "cells": [
  {
   "cell_type": "code",
   "execution_count": 3,
   "metadata": {},
   "outputs": [
    {
     "name": "stdout",
     "output_type": "stream",
     "text": [
      "50\n",
      "A\n",
      "B\n",
      "C\n",
      "-6\n"
     ]
    }
   ],
   "source": [
    "'''\n",
    "先輸入1個正整數表示目前的數值，再連續輸入多個 A~E之間任意的英文字母，\n",
    "\n",
    "當輸入A時，將目前數值 減去 18\n",
    "\n",
    "當輸入B時，將目前數值 減去 28\n",
    "\n",
    "當輸入C，將目前數值 減去10\n",
    "\n",
    "當輸入D，將目前數值 減去 50\n",
    "\n",
    "當輸入E，將目前數值 減去 89\n",
    "\n",
    "直到目前數值小於零時，印出小於零的最終數值\n",
    "'''\n",
    "a=int(input())\n",
    "while a:\n",
    "    drink=input()\n",
    "    if drink=='A':\n",
    "        a-=18\n",
    "    elif drink=='B':\n",
    "        a-=28\n",
    "    elif drink=='C':\n",
    "        a-=10\n",
    "    elif drink=='D':\n",
    "        a-=50\n",
    "    elif drink=='E':\n",
    "        a-=89\n",
    "    if a<0:\n",
    "        print(a)\n",
    "        break"
   ]
  },
  {
   "cell_type": "code",
   "execution_count": null,
   "metadata": {},
   "outputs": [],
   "source": []
  }
 ],
 "metadata": {
  "kernelspec": {
   "display_name": "Python 3",
   "language": "python",
   "name": "python3"
  },
  "language_info": {
   "codemirror_mode": {
    "name": "ipython",
    "version": 3
   },
   "file_extension": ".py",
   "mimetype": "text/x-python",
   "name": "python",
   "nbconvert_exporter": "python",
   "pygments_lexer": "ipython3",
   "version": "3.6.7"
  },
  "nbTranslate": {
   "displayLangs": [
    "*"
   ],
   "hotkey": "alt-t",
   "langInMainMenu": true,
   "sourceLang": "en",
   "targetLang": "fr",
   "useGoogleTranslate": true
  }
 },
 "nbformat": 4,
 "nbformat_minor": 2
}
